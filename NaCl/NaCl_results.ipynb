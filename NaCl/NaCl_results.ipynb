{
 "cells": [
  {
   "cell_type": "code",
   "execution_count": 1,
   "id": "f7a7906e",
   "metadata": {},
   "outputs": [],
   "source": [
    "from pandas import *\n",
    "import numpy as np\n",
    "import matplotlib.pyplot as plt"
   ]
  },
  {
   "cell_type": "code",
   "execution_count": 2,
   "id": "5018b4cb",
   "metadata": {},
   "outputs": [],
   "source": [
    "data_trc = read_csv('traincharges.csv')\n",
    "data_tsc = read_csv('testcharges.csv')\n",
    "data_tre = read_csv('trainenergy.csv')\n",
    "data_tse = read_csv('testenergy.csv')\n",
    "data_trf = read_csv('trainforces.csv')\n",
    "data_tsf = read_csv('testforces.csv')"
   ]
  },
  {
   "cell_type": "code",
   "execution_count": 45,
   "id": "65008a50",
   "metadata": {},
   "outputs": [
    {
     "data": {
      "text/html": [
       "<div>\n",
       "<style scoped>\n",
       "    .dataframe tbody tr th:only-of-type {\n",
       "        vertical-align: middle;\n",
       "    }\n",
       "\n",
       "    .dataframe tbody tr th {\n",
       "        vertical-align: top;\n",
       "    }\n",
       "\n",
       "    .dataframe thead th {\n",
       "        text-align: right;\n",
       "    }\n",
       "</style>\n",
       "<table border=\"1\" class=\"dataframe\">\n",
       "  <thead>\n",
       "    <tr style=\"text-align: right;\">\n",
       "      <th></th>\n",
       "      <th>Conf.</th>\n",
       "      <th>atom</th>\n",
       "      <th>Ref. Fx(Ha/Bohr)</th>\n",
       "      <th>Ref. Fy(Ha/Bohr)</th>\n",
       "      <th>Ref. Fz(Ha/Bohr)</th>\n",
       "      <th>NN Fx(Ha/Bohr)</th>\n",
       "      <th>NN Fy(Ha/Bohr)</th>\n",
       "      <th>NN Fz(Ha/Bohr)</th>\n",
       "    </tr>\n",
       "  </thead>\n",
       "  <tbody>\n",
       "    <tr>\n",
       "      <th>0</th>\n",
       "      <td>1</td>\n",
       "      <td>1</td>\n",
       "      <td>-0.025953</td>\n",
       "      <td>0.015838</td>\n",
       "      <td>-0.001087</td>\n",
       "      <td>-0.026249</td>\n",
       "      <td>0.016488</td>\n",
       "      <td>-0.000954</td>\n",
       "    </tr>\n",
       "    <tr>\n",
       "      <th>1</th>\n",
       "      <td>1</td>\n",
       "      <td>2</td>\n",
       "      <td>-0.007031</td>\n",
       "      <td>-0.009037</td>\n",
       "      <td>-0.000510</td>\n",
       "      <td>-0.007332</td>\n",
       "      <td>-0.009001</td>\n",
       "      <td>-0.000641</td>\n",
       "    </tr>\n",
       "    <tr>\n",
       "      <th>2</th>\n",
       "      <td>1</td>\n",
       "      <td>3</td>\n",
       "      <td>0.011132</td>\n",
       "      <td>-0.000537</td>\n",
       "      <td>0.001031</td>\n",
       "      <td>0.010979</td>\n",
       "      <td>-0.001506</td>\n",
       "      <td>0.000798</td>\n",
       "    </tr>\n",
       "    <tr>\n",
       "      <th>3</th>\n",
       "      <td>1</td>\n",
       "      <td>4</td>\n",
       "      <td>0.014246</td>\n",
       "      <td>-0.012275</td>\n",
       "      <td>0.000721</td>\n",
       "      <td>0.015623</td>\n",
       "      <td>-0.012040</td>\n",
       "      <td>0.000930</td>\n",
       "    </tr>\n",
       "    <tr>\n",
       "      <th>4</th>\n",
       "      <td>1</td>\n",
       "      <td>5</td>\n",
       "      <td>-0.007706</td>\n",
       "      <td>0.018453</td>\n",
       "      <td>0.000514</td>\n",
       "      <td>-0.008705</td>\n",
       "      <td>0.018426</td>\n",
       "      <td>0.000566</td>\n",
       "    </tr>\n",
       "    <tr>\n",
       "      <th>...</th>\n",
       "      <td>...</td>\n",
       "      <td>...</td>\n",
       "      <td>...</td>\n",
       "      <td>...</td>\n",
       "      <td>...</td>\n",
       "      <td>...</td>\n",
       "      <td>...</td>\n",
       "      <td>...</td>\n",
       "    </tr>\n",
       "    <tr>\n",
       "      <th>74202</th>\n",
       "      <td>4498</td>\n",
       "      <td>12</td>\n",
       "      <td>0.007556</td>\n",
       "      <td>0.018906</td>\n",
       "      <td>-0.000678</td>\n",
       "      <td>0.007529</td>\n",
       "      <td>0.019283</td>\n",
       "      <td>-0.000749</td>\n",
       "    </tr>\n",
       "    <tr>\n",
       "      <th>74203</th>\n",
       "      <td>4498</td>\n",
       "      <td>13</td>\n",
       "      <td>-0.001893</td>\n",
       "      <td>-0.002455</td>\n",
       "      <td>-0.000184</td>\n",
       "      <td>-0.002086</td>\n",
       "      <td>-0.002317</td>\n",
       "      <td>-0.000082</td>\n",
       "    </tr>\n",
       "    <tr>\n",
       "      <th>74204</th>\n",
       "      <td>4498</td>\n",
       "      <td>14</td>\n",
       "      <td>-0.003487</td>\n",
       "      <td>-0.004613</td>\n",
       "      <td>-0.000163</td>\n",
       "      <td>-0.003608</td>\n",
       "      <td>-0.004980</td>\n",
       "      <td>-0.000140</td>\n",
       "    </tr>\n",
       "    <tr>\n",
       "      <th>74205</th>\n",
       "      <td>4498</td>\n",
       "      <td>15</td>\n",
       "      <td>0.012992</td>\n",
       "      <td>-0.004525</td>\n",
       "      <td>0.000521</td>\n",
       "      <td>0.012924</td>\n",
       "      <td>-0.004540</td>\n",
       "      <td>0.000490</td>\n",
       "    </tr>\n",
       "    <tr>\n",
       "      <th>74206</th>\n",
       "      <td>4498</td>\n",
       "      <td>16</td>\n",
       "      <td>0.007100</td>\n",
       "      <td>-0.017257</td>\n",
       "      <td>0.000546</td>\n",
       "      <td>0.007688</td>\n",
       "      <td>-0.017390</td>\n",
       "      <td>0.000455</td>\n",
       "    </tr>\n",
       "  </tbody>\n",
       "</table>\n",
       "<p>74207 rows × 8 columns</p>\n",
       "</div>"
      ],
      "text/plain": [
       "       Conf.  atom  Ref. Fx(Ha/Bohr)  Ref. Fy(Ha/Bohr)  Ref. Fz(Ha/Bohr)  \\\n",
       "0          1     1         -0.025953          0.015838         -0.001087   \n",
       "1          1     2         -0.007031         -0.009037         -0.000510   \n",
       "2          1     3          0.011132         -0.000537          0.001031   \n",
       "3          1     4          0.014246         -0.012275          0.000721   \n",
       "4          1     5         -0.007706          0.018453          0.000514   \n",
       "...      ...   ...               ...               ...               ...   \n",
       "74202   4498    12          0.007556          0.018906         -0.000678   \n",
       "74203   4498    13         -0.001893         -0.002455         -0.000184   \n",
       "74204   4498    14         -0.003487         -0.004613         -0.000163   \n",
       "74205   4498    15          0.012992         -0.004525          0.000521   \n",
       "74206   4498    16          0.007100         -0.017257          0.000546   \n",
       "\n",
       "       NN Fx(Ha/Bohr)  NN Fy(Ha/Bohr)  NN Fz(Ha/Bohr)  \n",
       "0           -0.026249        0.016488       -0.000954  \n",
       "1           -0.007332       -0.009001       -0.000641  \n",
       "2            0.010979       -0.001506        0.000798  \n",
       "3            0.015623       -0.012040        0.000930  \n",
       "4           -0.008705        0.018426        0.000566  \n",
       "...               ...             ...             ...  \n",
       "74202        0.007529        0.019283       -0.000749  \n",
       "74203       -0.002086       -0.002317       -0.000082  \n",
       "74204       -0.003608       -0.004980       -0.000140  \n",
       "74205        0.012924       -0.004540        0.000490  \n",
       "74206        0.007688       -0.017390        0.000455  \n",
       "\n",
       "[74207 rows x 8 columns]"
      ]
     },
     "execution_count": 45,
     "metadata": {},
     "output_type": "execute_result"
    }
   ],
   "source": [
    "data_trf"
   ]
  },
  {
   "cell_type": "code",
   "execution_count": 31,
   "id": "5f7b69f3",
   "metadata": {},
   "outputs": [],
   "source": [
    "tr_ch_dft = data_trc['Ref. charge(e)'].to_numpy()\n",
    "tr_ch_nn = data_trc['NN charge(e)'].to_numpy()\n",
    "ts_ch_dft = data_tsc['Ref. charge(e)'].to_numpy()\n",
    "ts_ch_nn = data_tsc['NN charge(e)'].to_numpy()"
   ]
  },
  {
   "cell_type": "code",
   "execution_count": 32,
   "id": "68c50cb2",
   "metadata": {
    "scrolled": true
   },
   "outputs": [
    {
     "data": {
      "image/png": "[encoded data removed]",
      "text/plain": [
       "<Figure size 504x432 with 1 Axes>"
      ]
     },
     "metadata": {
      "needs_background": "light"
     },
     "output_type": "display_data"
    }
   ],
   "source": [
    "lin1 =np.linspace(-0.5,0.9,100)\n",
    "plt.figure(figsize=(7,6))\n",
    "plt.plot(lin1, lin1)\n",
    "plt.plot(tr_ch_dft, tr_ch_nn, 'bo', label='training')\n",
    "plt.plot(ts_ch_dft, ts_ch_nn, 'ro', label='test')\n",
    "plt.title('Charges')\n",
    "plt.xlabel('DFT charges (e)')\n",
    "plt.ylabel('NN charges (e)')\n",
    "plt.legend(loc=2)\n",
    "plt.savefig('Charges.png')\n",
    "plt.show()"
   ]
  },
  {
   "cell_type": "code",
   "execution_count": 47,
   "id": "92a44c90",
   "metadata": {},
   "outputs": [
    {
     "data": {
      "image/png": "[encoded data removed]",
      "text/plain": [
       "<Figure size 504x432 with 1 Axes>"
      ]
     },
     "metadata": {
      "needs_background": "light"
     },
     "output_type": "display_data"
    }
   ],
   "source": [
    "tr_e_dft = data_tre['Ref. total energy(Ha)'].to_numpy()*27.2114/82500\n",
    "tr_e_nn = data_tre['NN total energy(Ha)'].to_numpy()*27.2114/82500\n",
    "ts_e_dft = data_tse['Ref. total energy(Ha)'].to_numpy()*27.2114/82500\n",
    "ts_e_nn = data_tse['NN total energy(Ha)'].to_numpy()*27.2114/82500\n",
    "lin2 =np.linspace(-1.70,-1.64,100)\n",
    "\n",
    "plt.figure(figsize=(7,6))\n",
    "plt.plot(lin2, lin2)\n",
    "plt.plot(tr_e_dft, tr_e_nn, 'bo', label='training')\n",
    "plt.plot(ts_e_dft, ts_e_nn, 'ro', label='test')\n",
    "plt.title('Energy')\n",
    "plt.xlabel('DFT energy (eV/atom)')\n",
    "plt.ylabel('NN energy (eV/atom)')\n",
    "plt.legend(loc=2)\n",
    "plt.savefig('Energy.png')\n",
    "plt.show()"
   ]
  },
  {
   "cell_type": "code",
   "execution_count": 52,
   "id": "bf243f95",
   "metadata": {},
   "outputs": [],
   "source": [
    "tr_fx_dft = data_trf['Ref. Fx(Ha/Bohr)'].to_numpy()*27.2114/0.529\n",
    "tr_fx_nn = data_trf['NN Fx(Ha/Bohr)'].to_numpy()*27.2114/0.529\n",
    "tr_fy_dft = data_trf['Ref. Fy(Ha/Bohr)'].to_numpy()*27.2114/0.529\n",
    "tr_fy_nn = data_trf['NN Fy(Ha/Bohr)'].to_numpy()*27.2114/0.529\n",
    "tr_fz_dft = data_trf['Ref. Fz(Ha/Bohr)'].to_numpy()*27.2114/0.529\n",
    "tr_fz_nn = data_trf['NN Fz(Ha/Bohr)'].to_numpy()*27.2114/0.529\n",
    "\n",
    "ts_fx_dft = data_tsf['Ref. Fx(Ha/Bohr)'].to_numpy()*27.2114/0.529\n",
    "ts_fx_nn = data_tsf['NN Fx(Ha/Bohr)'].to_numpy()*27.2114/0.529\n",
    "ts_fy_dft = data_tsf['Ref. Fy(Ha/Bohr)'].to_numpy()*27.2114/0.529\n",
    "ts_fy_nn = data_tsf['NN Fy(Ha/Bohr)'].to_numpy()*27.2114/0.529\n",
    "ts_fz_dft = data_tsf['Ref. Fz(Ha/Bohr)'].to_numpy()*27.2114/0.529\n",
    "ts_fz_nn = data_tsf['NN Fz(Ha/Bohr)'].to_numpy()*27.2114/0.529"
   ]
  },
  {
   "cell_type": "code",
   "execution_count": 54,
   "id": "b727149a",
   "metadata": {},
   "outputs": [
    {
     "data": {
      "image/png": "[encoded data removed]",
      "text/plain": [
       "<Figure size 504x432 with 1 Axes>"
      ]
     },
     "metadata": {
      "needs_background": "light"
     },
     "output_type": "display_data"
    }
   ],
   "source": [
    "lin3 = np.linspace(-3, 3, 100)\n",
    "\n",
    "plt.figure(figsize=(7,6))\n",
    "plt.plot(lin3, lin3)\n",
    "plt.plot(tr_fx_dft, tr_fx_nn, 'bo', label='training')\n",
    "plt.plot(tr_fy_dft, tr_fy_nn, 'bo')\n",
    "plt.plot(tr_fz_dft, tr_fz_nn, 'bo')\n",
    "plt.plot(ts_fx_dft, ts_fx_nn, 'ro', label='test')\n",
    "plt.plot(ts_fy_dft, ts_fy_nn, 'ro')\n",
    "plt.plot(ts_fz_dft, ts_fz_nn, 'ro')\n",
    "\n",
    "plt.title('Forces')\n",
    "plt.xlabel('DFT forces (eV/A)')\n",
    "plt.ylabel('NN energy (eV/A)')\n",
    "plt.legend(loc=2)\n",
    "plt.savefig('Forces.png')\n",
    "plt.show()"
   ]
  },
  {
   "cell_type": "code",
   "execution_count": null,
   "id": "f7814240",
   "metadata": {},
   "outputs": [],
   "source": []
  }
 ],
 "metadata": {
  "kernelspec": {
   "display_name": "Python 3 (ipykernel)",
   "language": "python",
   "name": "python3"
  },
  "language_info": {
   "codemirror_mode": {
    "name": "ipython",
    "version": 3
   },
   "file_extension": ".py",
   "mimetype": "text/x-python",
   "name": "python",
   "nbconvert_exporter": "python",
   "pygments_lexer": "ipython3",
   "version": "3.9.12"
  }
 },
 "nbformat": 4,
 "nbformat_minor": 5
}
